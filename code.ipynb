{
 "cells": [
  {
   "cell_type": "code",
   "execution_count": 1,
   "metadata": {},
   "outputs": [],
   "source": [
    "import numpy as np\n",
    "from sklearn.model_selection import train_test_split\n",
    "# from sklearn.svm import SVC  # 选择SVM作为分类器，你也可以选择其他算法\n",
    "# import librosa\n",
    "import os\n",
    "from tqdm import tqdm\n",
    "\n",
    "# Function to load data from a folder\n",
    "def load_data(folder):\n",
    "    data = []\n",
    "    files = os.listdir(folder)\n",
    "    for file in files:\n",
    "        if file.endswith('.npy'):\n",
    "            filepath = os.path.join(folder, file)\n",
    "            mel_spec = np.load(filepath)\n",
    "            data.append(mel_spec)\n",
    "    return data"
   ]
  },
  {
   "cell_type": "code",
   "execution_count": 2,
   "metadata": {},
   "outputs": [],
   "source": [
    "X_train0 = load_data('train_data/language_0')\n",
    "X_train1 = load_data('train_data/language_1')\n",
    "X_test = load_data('test_data')"
   ]
  },
  {
   "cell_type": "code",
   "execution_count": 5,
   "metadata": {},
   "outputs": [],
   "source": [
    "# find the max length of the data\n",
    "max_length = 0\n",
    "for i in range(len(X_train0)):\n",
    "    if X_train0[i].shape[0] > max_length:\n",
    "        max_length = X_train0[i].shape[0]\n",
    "for i in range(len(X_train1)):\n",
    "    if X_train1[i].shape[0] > max_length:\n",
    "        max_length = X_train1[i].shape[0]\n",
    "for i in range(len(X_test)):\n",
    "    if X_test[i].shape[0] > max_length:\n",
    "        max_length = X_test[i].shape[0]"
   ]
  },
  {
   "cell_type": "code",
   "execution_count": 7,
   "metadata": {},
   "outputs": [],
   "source": [
    "# fill the data with zeros\n",
    "for i in range(len(X_train0)):\n",
    "    if X_train0[i].shape[0] < max_length:\n",
    "        X_train0[i] = np.pad(X_train0[i], ((0, max_length - X_train0[i].shape[0]), (0, 0)), 'constant')\n",
    "for i in range(len(X_train1)):\n",
    "    if X_train1[i].shape[0] < max_length:\n",
    "        X_train1[i] = np.pad(X_train1[i], ((0, max_length - X_train1[i].shape[0]), (0, 0)), 'constant')\n",
    "for i in range(len(X_test)):\n",
    "    if X_test[i].shape[0] < max_length:\n",
    "        X_test[i] = np.pad(X_test[i], ((0, max_length - X_test[i].shape[0]), (0, 0)), 'constant')"
   ]
  },
  {
   "cell_type": "code",
   "execution_count": 8,
   "metadata": {},
   "outputs": [],
   "source": [
    "X_train0 = np.array(X_train0)\n",
    "X_train1 = np.array(X_train1)\n",
    "X_test = np.array(X_test)"
   ]
  },
  {
   "cell_type": "code",
   "execution_count": 89,
   "metadata": {},
   "outputs": [],
   "source": [
    "# concatenate the data\n",
    "X_train = np.concatenate((X_train0, X_train1), axis=0)"
   ]
  },
  {
   "cell_type": "code",
   "execution_count": 90,
   "metadata": {},
   "outputs": [],
   "source": [
    "# generate the labels\n",
    "y_train0 = np.zeros(len(X_train0))\n",
    "y_train1 = np.ones(len(X_train1))\n",
    "y_train = np.concatenate((y_train0, y_train1), axis=0)"
   ]
  },
  {
   "cell_type": "code",
   "execution_count": 95,
   "metadata": {},
   "outputs": [],
   "source": [
    "import torch\n",
    "from torch import nn\n",
    "import torch.nn.functional as F\n",
    "from sklearn.model_selection import train_test_split\n",
    "\n",
    "# Assuming X_train and y_train are your data\n",
    "X_train, X_val, y_train, y_val = train_test_split(X_train, y_train, test_size=0.2, random_state=42)\n",
    "\n",
    "# Convert to tensors\n",
    "device = torch.device('cuda' if torch.cuda.is_available() else 'cpu')\n",
    "\n",
    "# Convert to tensors\n",
    "X_train = torch.tensor(X_train).to(device)\n",
    "y_train = torch.tensor(y_train).long().to(device)\n",
    "X_val = torch.tensor(X_val).to(device)\n",
    "y_val = torch.tensor(y_val).long().to(device)\n",
    "\n",
    "# Add a dimension for the channel\n",
    "X_train = X_train.unsqueeze(1)\n",
    "X_val = X_val.unsqueeze(1)"
   ]
  },
  {
   "cell_type": "code",
   "execution_count": 96,
   "metadata": {},
   "outputs": [],
   "source": [
    "class CNN(nn.Module):\n",
    "    def __init__(self):\n",
    "        super(CNN, self).__init__()\n",
    "        # Convolutional layers\n",
    "        self.conv1 = nn.Conv2d(1, 16, kernel_size=3, stride=1, padding=1)\n",
    "        self.conv2 = nn.Conv2d(16, 32, kernel_size=3, stride=1, padding=1)\n",
    "        # Max pooling layer\n",
    "        self.pool = nn.MaxPool2d(kernel_size=2, stride=2, padding=0)\n",
    "        # Fully connected layers\n",
    "        self.fc1 = nn.Linear(32 * 191 * 20, 256)\n",
    "        self.fc2 = nn.Linear(256, 2)  # Assuming 10 classes for classification\n",
    "    \n",
    "    def forward(self, x):\n",
    "        # Convolutional layers with ReLU activation and max pooling\n",
    "        x = self.pool(F.relu(self.conv1(x)))\n",
    "        x = self.pool(F.relu(self.conv2(x)))\n",
    "        # Flatten the tensor for fully connected layers\n",
    "        x = x.view(-1, 32 * 191 * 20)\n",
    "        # Fully connected layers with ReLU activation\n",
    "        x = F.relu(self.fc1(x))\n",
    "        x = self.fc2(x)\n",
    "        return x"
   ]
  },
  {
   "cell_type": "code",
   "execution_count": 98,
   "metadata": {},
   "outputs": [
    {
     "name": "stdout",
     "output_type": "stream",
     "text": [
      "Epoch 1/10, Loss: 0.6649547219276428\n",
      "Epoch 2/10, Loss: 0.5728296041488647\n",
      "Epoch 3/10, Loss: 0.28349724411964417\n",
      "Epoch 4/10, Loss: 0.15444275736808777\n",
      "Epoch 5/10, Loss: 0.22692586481571198\n",
      "Epoch 6/10, Loss: 0.15337534248828888\n",
      "Epoch 7/10, Loss: 0.041806600987911224\n",
      "Epoch 8/10, Loss: 0.030931225046515465\n",
      "Epoch 9/10, Loss: 0.018156446516513824\n",
      "Epoch 10/10, Loss: 0.0368022695183754\n",
      "Accuracy of the model on the validation data: 92.65625%\n"
     ]
    }
   ],
   "source": [
    "from torch.utils.data import TensorDataset, DataLoader\n",
    "\n",
    "# Check if CUDA (GPU) is available\n",
    "device = torch.device(\"cuda\" if torch.cuda.is_available() else \"cpu\")\n",
    "\n",
    "# Initialize the model and move it to the device\n",
    "model = CNN().to(device)\n",
    "criterion = nn.CrossEntropyLoss()\n",
    "optimizer = torch.optim.Adam(model.parameters(), lr=0.001)\n",
    "\n",
    "# Create a DataLoader\n",
    "batch_size = 64\n",
    "train_data = TensorDataset(X_train, y_train)\n",
    "train_loader = DataLoader(train_data, batch_size=batch_size, shuffle=True)\n",
    "\n",
    "# Train the model\n",
    "num_epochs = 10\n",
    "for epoch in range(num_epochs):\n",
    "    for i, (images, labels) in enumerate(train_loader):\n",
    "        # Forward pass\n",
    "        outputs = model(images)\n",
    "        loss = criterion(outputs, labels)\n",
    "        # Backward and optimize\n",
    "        optimizer.zero_grad()\n",
    "        loss.backward()\n",
    "        optimizer.step()\n",
    "\n",
    "    # Print loss for every epoch\n",
    "    print(f'Epoch {epoch+1}/{num_epochs}, Loss: {loss.item()}')\n",
    "\n",
    "# Evaluate the model\n",
    "model.eval()\n",
    "with torch.no_grad():\n",
    "    correct = 0\n",
    "    total = 0\n",
    "    outputs = model(X_val)\n",
    "    _, predicted = torch.max(outputs.data, 1)\n",
    "    total += y_val.size(0)\n",
    "    correct += (predicted == y_val).sum().item()\n",
    "\n",
    "print(f'Accuracy of the model on the validation data: {100 * correct / total}%')"
   ]
  },
  {
   "cell_type": "code",
   "execution_count": 105,
   "metadata": {},
   "outputs": [],
   "source": [
    "# free the memory of the GPU\n",
    "torch.cuda.empty_cache()"
   ]
  },
  {
   "cell_type": "code",
   "execution_count": 107,
   "metadata": {},
   "outputs": [],
   "source": [
    "# test the model\n",
    "X_test = torch.tensor(X_test).to(device)\n",
    "\n",
    "# Add a dimension for the channel\n",
    "X_test = X_test.unsqueeze(1)\n",
    "\n",
    "model.eval()\n",
    "with torch.no_grad():\n",
    "    outputs = model(X_test)\n",
    "    _, predicted = torch.max(outputs.data, 1)    "
   ]
  },
  {
   "cell_type": "code",
   "execution_count": 109,
   "metadata": {},
   "outputs": [
    {
     "data": {
      "text/plain": [
       "torch.Size([2000])"
      ]
     },
     "execution_count": 109,
     "metadata": {},
     "output_type": "execute_result"
    }
   ],
   "source": [
    "predicted.shape"
   ]
  },
  {
   "cell_type": "code",
   "execution_count": 110,
   "metadata": {},
   "outputs": [],
   "source": [
    "# write the result to the second column of test.csv, starting from the second row\n",
    "import csv\n",
    "with open('test.csv', 'r') as f:\n",
    "    reader = csv.reader(f)\n",
    "    rows = [row for row in reader]\n",
    "    for i in range(len(predicted)):\n",
    "        rows[i+1][1] = predicted[i].item()\n",
    "with open('test.csv', 'w') as f:\n",
    "    writer = csv.writer(f)\n",
    "    writer.writerows(rows)"
   ]
  },
  {
   "cell_type": "code",
   "execution_count": null,
   "metadata": {},
   "outputs": [],
   "source": []
  }
 ],
 "metadata": {
  "kernelspec": {
   "display_name": "base",
   "language": "python",
   "name": "python3"
  },
  "language_info": {
   "codemirror_mode": {
    "name": "ipython",
    "version": 3
   },
   "file_extension": ".py",
   "mimetype": "text/x-python",
   "name": "python",
   "nbconvert_exporter": "python",
   "pygments_lexer": "ipython3",
   "version": "3.8.18"
  }
 },
 "nbformat": 4,
 "nbformat_minor": 2
}
